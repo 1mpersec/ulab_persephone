{
 "cells": [
  {
   "cell_type": "markdown",
   "id": "21a1f0d2-d75c-4443-b816-1d1db3760454",
   "metadata": {},
   "source": [
    "# HW 7 - Libraries + Modules\n",
    "ULAB - Physics and Astronomy Division \\\n",
    "Due **Wednesday, November 6th, 2024 at 11:59pm** on Gradescope\n",
    "\n",
    "--------------------------------------------------------------\n",
    "\n",
    "## Module vs. Package vs. Library\n",
    "### Module\n",
    "A **module** is a single file containing Python code (typically ending in a `.py` extension) that contains functions and variables. \n",
    "- They can be imported into other Python files or notebooks\n",
    "- You use modules to organize code into smaller, reuseable parts\n",
    "- Ex: `even_sum.py` that we created during lecture.\n",
    "\n",
    "*You will create your OWN module for this homework and use that we made during class.*\n",
    "\n",
    "### Package\n",
    "A **package** is a group of modules, organized like a directory. \n",
    "- A package requires a special `__init__.py` file to tell Python that the ENTIRE directory is something you would like to import.\n",
    "- Packages can contain sub-pacakges\n",
    "- Ex: `BAGLE_Microlensing` is an example of a package (if you are in Dex's group, this should be familar to you). Or you could think of `paarti` if you are in Brianna's group.\n",
    "\n",
    "*You will NOT be working with a package for this homework.*\n",
    "\n",
    "### Library\n",
    "A **library** is a much broader term that also refers to a collection of modules (like a package) but a library can also contain mulitple packages. \n",
    "- Libraries serve a much wider range of functionality for\n",
    "- Programmers use packages to have ready-to-go tools that can be used for data manipulation, web development, machine learning or simulations.\n",
    "- Ex: `numpy` is a very common library. Later in this course we will also be working some of the following libraries `matplotlib`, `scipy`, and `astropy`, `pandas`, etc\n",
    "\n",
    "*You WILL be working with the extensive numpy library for this homework!*\n",
    "\n",
    "--------------------------------------------------------------"
   ]
  },
  {
   "cell_type": "markdown",
   "id": "8dc7e46b-1e8e-486c-a2e9-d615c687028b",
   "metadata": {},
   "source": [
    "# 1 NumPy\n",
    "**NumPy** (aka Numerical Python) is a library that was designed for caring out computations in Python. \n",
    "\n",
    "We did not have a ton of time to work through examples during class, so I will ask that you check out this website for more information: https://numpy.org/doc/ \n",
    "\n",
    "Before we can work through any problems, you need to call the following in your notebook:"
   ]
  },
  {
   "cell_type": "code",
   "execution_count": 228,
   "id": "08dabd73-3dbc-4aab-843a-d4b81102835d",
   "metadata": {},
   "outputs": [],
   "source": [
    "import numpy as np"
   ]
  },
  {
   "cell_type": "markdown",
   "id": "92c77920-20fc-455e-bf52-10b5a518ed2d",
   "metadata": {},
   "source": [
    "## 1.1 Lists vs. Arrays\n",
    "*When I first started working with NumPy I didn't understand what was so special about arrays. This homework problem should help illustrate the difference. Make sure to follow each step and follow good coding practices.*\n",
    "\n",
    "1) Make a list called `my_list` and make an array called `my_arr` with the same values. There is an example below, but don't copy mine! Ex:\n",
    "```\n",
    "my_list = [11, 12, 13, 14, 15]\n",
    "my_arr = np.array([11, 12, 13, 14, 15])\n",
    "```\n",
    "*Notice that to use the `numpy` package we had to call its short cut `np` and then call upon its funciton `.array()`. This is similar to working with a built-in python function like `.append()`.*"
   ]
  },
  {
   "cell_type": "code",
   "execution_count": 230,
   "id": "494f31ac-a231-4f65-b202-e85208d6bee4",
   "metadata": {},
   "outputs": [],
   "source": [
    "my_list=[1,2,3,4,5]\n",
    "my_arr=np.array([1,2,3,4,5])"
   ]
  },
  {
   "cell_type": "markdown",
   "id": "861d42c4-411e-4ef9-b85c-68e1f61c4fcb",
   "metadata": {},
   "source": [
    "2) Multiply `my_list` by 4 and multiply `my_arr` by 4. Print the results. Describe what happens in a comment."
   ]
  },
  {
   "cell_type": "code",
   "execution_count": 232,
   "id": "79245f57-3a83-4300-96d2-ea7a9035d3eb",
   "metadata": {},
   "outputs": [
    {
     "name": "stdout",
     "output_type": "stream",
     "text": [
      "[1, 2, 3, 4, 5, 1, 2, 3, 4, 5, 1, 2, 3, 4, 5, 1, 2, 3, 4, 5]\n",
      "[ 4  8 12 16 20]\n"
     ]
    }
   ],
   "source": [
    "print(4*my_list)\n",
    "print(4*my_arr)\n",
    "\n",
    "#list: contents of the list are written 4 times\n",
    "#array: contents of the array are multiplied by 4"
   ]
  },
  {
   "cell_type": "markdown",
   "id": "aa2dc2fb-7a26-42e8-90db-18d1598f4d7c",
   "metadata": {},
   "source": [
    "3) Add `my_list` with `my_list`. Add `my_arr` with `my_arr`. Add `my_list` with `my_arr`. Print the results. Describe what happens in a comment."
   ]
  },
  {
   "cell_type": "code",
   "execution_count": 234,
   "id": "9f18f22e-3137-4aa9-b623-6d2c0caec4c3",
   "metadata": {},
   "outputs": [
    {
     "name": "stdout",
     "output_type": "stream",
     "text": [
      "[1, 2, 3, 4, 5, 1, 2, 3, 4, 5]\n",
      "[ 2  4  6  8 10]\n"
     ]
    }
   ],
   "source": [
    "print(my_list+my_list)\n",
    "print(my_arr+my_arr)\n",
    "\n",
    "#list: contents of the list are written twice\n",
    "#array: numerical value of contents are added"
   ]
  },
  {
   "cell_type": "markdown",
   "id": "3be18720-756f-43d1-bad7-bd85e138ef7e",
   "metadata": {},
   "source": [
    "4) Subtract `my_list` with `my_list`. Subtract `my_arr` with `my_arr`. Subtract `my_list` with `my_arr`. Print the results. Describe what happens in a comment."
   ]
  },
  {
   "cell_type": "code",
   "execution_count": 236,
   "id": "131b09c8-d352-4566-b710-31316483ae89",
   "metadata": {},
   "outputs": [
    {
     "name": "stdout",
     "output_type": "stream",
     "text": [
      "set()\n",
      "[0 0 0 0 0]\n",
      "[0 0 0 0 0]\n"
     ]
    }
   ],
   "source": [
    "subtractlist=set(my_list)-set(my_list)\n",
    "print(subtractlist)\n",
    "print(my_list-my_arr)\n",
    "print(my_arr-my_arr)\n",
    "\n",
    "#list-list: deletes all contents\n",
    "#list-array: subtracts values of array from list\n",
    "#array-array: subtracts values of array from array"
   ]
  },
  {
   "cell_type": "markdown",
   "id": "9089eff6-4251-4a52-b263-c77b11343ece",
   "metadata": {},
   "source": [
    "5) Multiply `my_list` with `my_list`. Multply `my_arr` with `my_arr`. Multiply `my_list` with `my_arr`. Print the results. Describe what happens in a comment."
   ]
  },
  {
   "cell_type": "code",
   "execution_count": 238,
   "id": "cae7749f-cc6e-45d6-9e07-72aa2cefc0b6",
   "metadata": {},
   "outputs": [
    {
     "name": "stdout",
     "output_type": "stream",
     "text": [
      "[ 1  4  9 16 25]\n",
      "[ 1  4  9 16 25]\n",
      "[ 1  4  9 16 25]\n"
     ]
    }
   ],
   "source": [
    "print(np.multiply(my_list,my_list)) #didn't know how else to do this\n",
    "print(my_arr*my_arr)\n",
    "print(my_arr*my_list)\n",
    "\n",
    "#list x list: multiplies values\n",
    "#array x array: also multiplies values\n",
    "#array x list: also multiplies values (all yielded same result [1,4,9,16,25])"
   ]
  },
  {
   "cell_type": "markdown",
   "id": "55175f6e-e6b2-41b1-8015-5f1b099664e8",
   "metadata": {},
   "source": [
    "7) Divide `my_list` with `my_list`. Divide `my_arr` with `my_arr`. Divide `my_list` with `my_arr`. Print the results. Describe what happens in a comment."
   ]
  },
  {
   "cell_type": "code",
   "execution_count": 240,
   "id": "ccdc8e13-ec41-4b79-8034-0934c012580e",
   "metadata": {},
   "outputs": [
    {
     "name": "stdout",
     "output_type": "stream",
     "text": [
      "[1. 1. 1. 1. 1.]\n",
      "[1. 1. 1. 1. 1.]\n",
      "[1. 1. 1. 1. 1.]\n"
     ]
    }
   ],
   "source": [
    "print(np.divide(my_list,my_list))\n",
    "print(my_arr/my_arr)\n",
    "print(my_list/my_arr)\n",
    "\n",
    "#similarly to above, all three combinations divide the elements of the list/array by the elements of the second list/array\n",
    "#all three yielded [1,1,1,1,1] implying it just divided each element by itself"
   ]
  },
  {
   "cell_type": "markdown",
   "id": "1fb261e6-b99b-4e36-953a-e899da010469",
   "metadata": {},
   "source": [
    "8) After working through this problem, in at least two sentences, describe the difference between a list and an array."
   ]
  },
  {
   "cell_type": "code",
   "execution_count": 242,
   "id": "d702ddad-c84d-43d5-9fe0-d10b9083bf85",
   "metadata": {},
   "outputs": [],
   "source": [
    "#A list just seems to be a collection of numbers, kind of like marbles in a line. The marbles can be the same color and be in the line twice.\n",
    "#In a list, the order of the elements being listed is important.\n",
    "\n",
    "#In an array, each element kind of has its own identity associated with where it is in the array.\n",
    "#When told to perform some operation on an entire array, each element has the operation performed on it independently."
   ]
  },
  {
   "cell_type": "markdown",
   "id": "fdbccced-d3f0-4948-be6e-471028979576",
   "metadata": {},
   "source": [
    "## 1.2 Nested List and Multi-Dimensional Arrays\n",
    "A **nested list** is when you have a list as an element for a list. Example:\n",
    "```\n",
    "nested_list = [[1, 2, 3], [4, 5, 6]]\n",
    "```\n",
    "\n",
    "A **multi-dimensional array** is essentially a nested list, but it contains the properties of a matrix. Example:\n",
    "```\n",
    "multi_d_array = np.array([[1, 2, 3], [4, 5, 6]])\n",
    "```\n",
    "\n",
    "Go to this website for more information on NumPy: https://www.w3schools.com/python/numpy/default.asp\n",
    "\n",
    "Write a **function** that takes in a two-dimensional array. Example:\n",
    "\n",
    "```\n",
    "arr3 = np.array([[2, 4, 6], [8, 10, 12], [14, 16, 18]])\n",
    "```\n",
    "\n",
    "and then returns the second value in each row. Example:\n",
    "\n",
    "```\n",
    "[4, 10, 16]\n",
    "```"
   ]
  },
  {
   "cell_type": "code",
   "execution_count": 244,
   "id": "e6d45993-2390-4e2d-bb6e-930919dd7d46",
   "metadata": {},
   "outputs": [
    {
     "name": "stdout",
     "output_type": "stream",
     "text": [
      "(2, 5, 3)\n"
     ]
    }
   ],
   "source": [
    "array = np.array([[1,2,3],[1,5,4],[7,3,5]])\n",
    "\n",
    "def second_element(twod_arr):\n",
    "    return array[0,1], array[1,1], array[2,1]\n",
    "\n",
    "print(second_element(array))"
   ]
  },
  {
   "cell_type": "markdown",
   "id": "e5c0700d-def9-4afe-86f5-0a4b8862c0b4",
   "metadata": {},
   "source": [
    "In 2-3 sentences, describe what section of the website helped you write your function. "
   ]
  },
  {
   "cell_type": "code",
   "execution_count": 246,
   "id": "179c2c8d-3493-40a5-931f-7a92be8551a6",
   "metadata": {},
   "outputs": [],
   "source": [
    "#I used the \"array indexing\" part of the site and read about accessing 2d array elements."
   ]
  },
  {
   "cell_type": "markdown",
   "id": "2bee5ead-232c-495c-8e42-1721bd315957",
   "metadata": {},
   "source": [
    "How would you take a nested list and return the second value in each row? Explain in 2-3 sentences and show an example."
   ]
  },
  {
   "cell_type": "code",
   "execution_count": 248,
   "id": "cf2781ee-fe07-4370-af31-0a899897fbde",
   "metadata": {},
   "outputs": [
    {
     "name": "stdout",
     "output_type": "stream",
     "text": [
      "[2, 2, 9]\n"
     ]
    }
   ],
   "source": [
    "#For a nested list, I could treat it like a matrix and call a column in every row.\n",
    "\n",
    "list=[[1,2,3],[6,2,4],[0,9,0]]\n",
    "\n",
    "second_in_list = [row[1] for row in list] #\"row in list\" refers to each \"element\" of the whole list, aka the small lists in big list\n",
    "print(second_in_list)"
   ]
  },
  {
   "cell_type": "markdown",
   "id": "25eaeadc-b09d-4ca8-9849-822879abdad2",
   "metadata": {},
   "source": [
    "## 1.3 Up to You!\n",
    "With the website I just gave you: https://www.w3schools.com/python/numpy/default.asp\n",
    "\n",
    "I recommend working through the examples they provide (you don't have to do all of them, but a few would be good). It will help you build an intuition for numpy. It won't take very long, there are only a couple of examples per section.\n",
    "\n",
    "Write you own **function** that follows the theme of one of the sections (i.e. array reshaping, array filter, random intro, etc). For example, if you are curious about the section \"**NumPy Creating Arrays**\" you could write a function that creates a multi-dimensional array.\n",
    "\n",
    "```\n",
    "\n",
    ">>> def make_multi_dimensional_array(one_d_array, dimensions):\n",
    "...     # Creates a multi-dimensional array\n",
    "...     # Your code here\n",
    "...     return # Your code here\n",
    "\n",
    ">>> my_one_d_array = [2, 4, 6, 8]\n",
    ">>> my_dimension = 10\n",
    ">>> ten_d_array = make_multi_dimensional_array(my_one_d_array, my_dimension)\n",
    ">>> print(ten_d_array)\n",
    "[[[[[[[[[[2 4 6 8]]]]]]]]]]\n",
    "\n",
    "```\n",
    "\n",
    "Your function should be more detailed than the example I gave you. Include at least one of the following: \n",
    "- a conditional statement\n",
    "- an assignment operator\n",
    "- a loop (`for` or `while`)\n",
    "- `if`, `elif`, `else`, statement"
   ]
  },
  {
   "cell_type": "code",
   "execution_count": 250,
   "id": "359f524a-30ee-446c-a6d6-a57faecf5bcb",
   "metadata": {},
   "outputs": [
    {
     "name": "stdout",
     "output_type": "stream",
     "text": [
      "[54, 'not diagonal', 125]\n",
      "['not diagonal', 1, 0]\n"
     ]
    }
   ],
   "source": [
    "#using info from reshaping section\n",
    "\n",
    "def diagonal_determinants(arr1, arr2, arr3):\n",
    "    matrices = [arr1, arr2, arr3]\n",
    "    determinants = []\n",
    "\n",
    "    for arr in matrices:\n",
    "        matrix = [arr[i:i+3] for i in range(0, 9, 3)]  #reshaping to 3x3 2-dim arrays, aka 3x3 matrix\n",
    "        \n",
    "        # check if matrix is diagonal - conditional/if statement\n",
    "        diagonal_matrix = True\n",
    "        for i in range(3):\n",
    "            for j in range(3):\n",
    "                if i != j and matrix[i][j] != 0: #classic definition of diagonal matrix: element a_ij = 0 for i=/=j\n",
    "                    diagonal_matrix = False\n",
    "                    break\n",
    "            if not diagonal_matrix:\n",
    "                break\n",
    "\n",
    "        if diagonal_matrix:\n",
    "            # calculate determinant by multiplying the diagonal elements\n",
    "            det = matrix[0][0] * matrix[1][1] * matrix[2][2] #format: matrix[row][column]\n",
    "            determinants.append(det)\n",
    "        else:\n",
    "            determinants.append('not diagonal')  #indicates it's not a diagonal matrix\n",
    "\n",
    "    return determinants\n",
    "\n",
    "ex_array1=[1,0,0,0,9,0,0,0,6]\n",
    "ex_array2=[4,5,6,1,0,0,0,8,7]\n",
    "ex_array3=[5,0,0,0,5,0,0,0,5]\n",
    "\n",
    "print(diagonal_determinants(ex_array1,ex_array2,ex_array3))\n",
    "\n",
    "\n",
    "ex_array4=[4,4,4,4,4,4,4,4,4]\n",
    "identity_matrix=[1,0,0,0,1,0,0,0,1]\n",
    "zero_matrix=[0,0,0,0,0,0,0,0,0]\n",
    "\n",
    "print(diagonal_determinants(ex_array4,identity_matrix,zero_matrix))"
   ]
  },
  {
   "cell_type": "markdown",
   "id": "88df7c51-0196-42b5-aabf-5068bc6ad675",
   "metadata": {},
   "source": [
    "In the section you took inspiration from, show all of the examples below. Follow good coding practices and give at least two test cases for each example. Don't forget comments! \\\n",
    "\\\n",
    "*For my example, I took inspiration from **NumPy Creating Arrays** so I would show following examples with DIFFERENT test cases: Create a NumPy ndarray Object, Dimensions in Arrays ,0-D Arrays, 1-D Arrays, 2-D Arrays, 3-D Arrays, Check Number of Dimensions, Higher Dimensional Arrays.*"
   ]
  },
  {
   "cell_type": "code",
   "execution_count": 252,
   "id": "193b91b8-de1d-4aee-af90-6a0e10930b55",
   "metadata": {},
   "outputs": [
    {
     "name": "stdout",
     "output_type": "stream",
     "text": [
      "PART I\n",
      "[[0 1 2]\n",
      " [3 4 1]\n",
      " [2 3 4]\n",
      " [1 2 3]]\n",
      " \n",
      "[[ 3  4  5]\n",
      " [ 6  2  3]\n",
      " [ 4  2 11]]\n",
      " \n",
      "PART TWO\n",
      "[[[1 2]\n",
      "  [3 4]\n",
      "  [1 2]]\n",
      "\n",
      " [[3 4]\n",
      "  [1 2]\n",
      "  [3 4]]]\n",
      " \n",
      "[[[0 0 0]\n",
      "  [0 1 1]]\n",
      "\n",
      " [[1 1 0]\n",
      "  [0 0 0]]]\n",
      " \n",
      "PART THREE\n",
      "[1 2 3 4 1 2 3 4 1 2 3 4]\n",
      "[0 0 0 0 1 1 1 1 0 0 0 0]\n",
      " \n",
      "PART FOUR\n",
      "[[[5 1 4 0]\n",
      "  [0 0 0 8]]\n",
      "\n",
      " [[5 4 1 2]\n",
      "  [3 4 5 6]]\n",
      "\n",
      " [[7 4 5 6]\n",
      "  [7 1 2 3]]]\n",
      " \n",
      "[[[5 1 4]\n",
      "  [0 0 0]]\n",
      "\n",
      " [[0 8 5]\n",
      "  [4 1 2]]\n",
      "\n",
      " [[3 4 5]\n",
      "  [6 7 4]]\n",
      "\n",
      " [[5 6 7]\n",
      "  [1 2 3]]]\n",
      " \n",
      "PART FIVE\n",
      "[ 1  4  5  6  7  6 11  4  9]\n",
      "[5 4 1 2 6 7 9 9]\n"
     ]
    }
   ],
   "source": [
    "#Reshape From 1-D to 2-D\n",
    "print(\"PART I\")\n",
    "\n",
    "ex_arr1 = np.array([0,1,2,3,4,1,2,3,4,1,2,3])\n",
    "ex_arr2 = np.array([3,4,5,6,2,3,4,2,11])\n",
    "\n",
    "ex_matrix1 = ex_arr1.reshape(4,3)\n",
    "ex_matrix2 = ex_arr2.reshape(3,3)\n",
    "\n",
    "print(ex_matrix1)\n",
    "print(\" \")\n",
    "print(ex_matrix2)\n",
    "print(\" \")\n",
    "\n",
    "#Reshape From 1-D to 3-D\n",
    "print(\"PART TWO\")\n",
    "\n",
    "ex_arr3 = np.array([1,2,3,4,1,2,3,4,1,2,3,4])\n",
    "ex_arr4 = np.array([0,0,0,0,1,1,1,1,0,0,0,0])\n",
    "\n",
    "ex_matrix3 = ex_arr3.reshape(2,3,2)\n",
    "ex_matrix4 = ex_arr4.reshape(2,2,3)\n",
    "\n",
    "print(ex_matrix3)\n",
    "print(\" \")\n",
    "print(ex_matrix4)\n",
    "print(\" \")\n",
    "\n",
    "#Returns Copy or View?\n",
    "print(\"PART THREE\")\n",
    "\n",
    "print(ex_arr3.reshape(3,4).base) #if returns original array, view\n",
    "print(ex_arr4.reshape(2,2,3).base)\n",
    "print(\" \")\n",
    "\n",
    "#Unknown Dimension\n",
    "print(\"PART FOUR\")\n",
    "\n",
    "ex_arr5 = np.array([5,1,4,0,0,0,0,8,5,4,1,2,3,4,5,6,7,4,5,6,7,1,2,3])\n",
    "mysterymatrix1 = ex_arr5.reshape(3,2,-1)\n",
    "mysterymatrix2 = ex_arr5.reshape(4,2,-1)\n",
    "\n",
    "print(mysterymatrix1)\n",
    "print(\" \")\n",
    "print(mysterymatrix2)\n",
    "print(\" \")\n",
    "\n",
    "#Flattening the arrays (multi-dim -> 1d)\n",
    "print(\"PART FIVE\")\n",
    "\n",
    "ex_arr6 = np.array([[1,4,5],[6,7,6],[11,4,9]])\n",
    "ex_arr7 = np.array([[5,4],[1,2],[6,7],[9,9]])\n",
    "\n",
    "flatarray1 = ex_arr6.reshape(-1)\n",
    "flatarray2 = ex_arr7.reshape(-1)\n",
    "\n",
    "print(flatarray1)\n",
    "print(flatarray2)"
   ]
  },
  {
   "cell_type": "markdown",
   "id": "c90148dc-cac4-4322-86ff-5b112bae306f",
   "metadata": {},
   "source": [
    "In 2-3 sentences, describe how your function took inspiration from a section.\\\n",
    "\\\n",
    "*For my example, `make_multi_dimensional_array`, I would talk about the **NumPy Creating Arrays** section and how I took inspiration from the example **Higher Dimensional Arrays**.*"
   ]
  },
  {
   "cell_type": "code",
   "execution_count": 254,
   "id": "fe11ac2d-dcdb-4e51-9460-c3cc1be48bef",
   "metadata": {},
   "outputs": [],
   "source": [
    "#I took inspiration from Reshape From 1-D to 2-D, because that is what gives me the standard matrix form that I am familiar with\n",
    "#I used array.reshape(x,x) from the website to create the matrices that I calculated the determinants for\n",
    "#array.reshape(3,3) turns an array with 9 numbers into a 3x3 matrix\n",
    "#then I also used the reshaped version to pick out elements a_ij from the matrices using matrix[i][j] for i,j in range(3)\n",
    "#This runs through the elements of the 3x3 matrix by row and column"
   ]
  },
  {
   "cell_type": "markdown",
   "id": "8a834fd4-ef1b-4464-a07a-76e08a1c81c8",
   "metadata": {},
   "source": [
    "# 2 Brianna's Module\n",
    "During lecture we created and worked with a module called `even_sum.py`. Import that module here. "
   ]
  },
  {
   "cell_type": "code",
   "execution_count": 256,
   "id": "66e2a829-e478-4c97-8412-846cd93161f8",
   "metadata": {},
   "outputs": [],
   "source": [
    "import even_sum as es"
   ]
  },
  {
   "cell_type": "markdown",
   "id": "210ee2c2-9b81-4ea4-bbe7-2d1fa94d646e",
   "metadata": {},
   "source": [
    "Now that you have imported the module. Call the module and the first function with your own list of numbers. "
   ]
  },
  {
   "cell_type": "code",
   "execution_count": 258,
   "id": "89ad196d-5948-4e20-899a-d31eebdc4f2a",
   "metadata": {},
   "outputs": [
    {
     "name": "stdout",
     "output_type": "stream",
     "text": [
      "38 68\n"
     ]
    }
   ],
   "source": [
    "ex_list1 = [1,2,3,4,5,6,7,8,6,7,5,4,3,2,3,4,1,2]\n",
    "ex_list2 = [6,5,4,5,6,2,2,2,2,3,4,4,4,4,4,4,4,4,4,4,4]\n",
    "\n",
    "esum1 = es.even_sum(ex_list1)\n",
    "esum2 = es.even_sum(ex_list2)\n",
    "\n",
    "print(esum1, esum2)"
   ]
  },
  {
   "cell_type": "markdown",
   "id": "110d3cb8-b809-467b-9447-57810e4e3853",
   "metadata": {},
   "source": [
    "I have provided you a separate module called `example.py`. Import that module here."
   ]
  },
  {
   "cell_type": "code",
   "execution_count": 260,
   "id": "092eb2b9-dd15-4fdf-a7a2-ad32cd22ed88",
   "metadata": {},
   "outputs": [],
   "source": [
    "import example as ex"
   ]
  },
  {
   "cell_type": "markdown",
   "id": "a6922f89-01e7-41af-82e2-4236daa103b1",
   "metadata": {},
   "source": [
    "With the following variables, use my module to show which of the rocket's escape!"
   ]
  },
  {
   "cell_type": "code",
   "execution_count": 262,
   "id": "6b2e8b39-8441-469a-a128-19b04b8c8a2f",
   "metadata": {},
   "outputs": [],
   "source": [
    "rocket_velocities = np.array([\n",
    "    [1000, 5000, 8000, 12000],  # Rocket 1's velocity at different times\n",
    "    [2000, 6000, 9000, 10000],  # Rocket 2\n",
    "    [3000, 3100, 3200, 3300]    # Rocket 3\n",
    "])\n",
    "\n",
    "mass_of_planet = 5.972e24 # kilograms\n",
    "radius_of_planet = 6.371e6 # meters"
   ]
  },
  {
   "cell_type": "code",
   "execution_count": 263,
   "id": "05196d65-9e31-4cec-ad01-9f9cebe00046",
   "metadata": {},
   "outputs": [
    {
     "name": "stdout",
     "output_type": "stream",
     "text": [
      "Rocket 1: Rocket left the planet!\n",
      "Rocket 2: Rocket is orbiting around the planet.\n",
      "Rocket 3: Rocket crashes back into the planet!\n"
     ]
    }
   ],
   "source": [
    "succeed_leaving = ex.rocket_launch(rocket_velocities, mass_of_planet, radius_of_planet) #plug in ndarray rocket_velocities and two given floats\n",
    "\n",
    "print(\"Rocket 1:\", succeed_leaving[0]) #print rocket name + respective status given by function\n",
    "print(\"Rocket 2:\", succeed_leaving[1])\n",
    "print(\"Rocket 3:\", succeed_leaving[2])"
   ]
  },
  {
   "cell_type": "markdown",
   "id": "9ab3de38-dbd9-438f-a587-67e8777c9c93",
   "metadata": {},
   "source": [
    "In 2-3 sentences describe how this code follows \"good coding practices\" and where there is room for improvement."
   ]
  },
  {
   "cell_type": "code",
   "execution_count": 265,
   "id": "94d49892-e1c0-4e6a-b05d-f9ddf3de4b44",
   "metadata": {},
   "outputs": [],
   "source": [
    "#Mine or the module's...?\n",
    "\n",
    "#The module followed good coding practices by writing down what each function does when defining it. This helps comprehension.\n",
    "#It also had vairable/function names that were easy to follow and straightforward.\n",
    "#Inside the functions (e.g. rocket_launch), the code was not messy because of clean assignments. Also, defining long constants like G made the equations more readable.\n",
    "#However, it was slightly unclear what the big picture of the module was, because there were no steps outlined that I could follow.\n",
    "#I initially thought they were supposed to be 3 independent functions; if the intentions of the functions were written, it would have taken no time at all to understand the code.\n",
    "\n",
    "#I tried to follow good coding practices by labeling what I did next to my code.\n",
    "#I also chose a clear and straightforward name \"succeed_leaving\" for my assignment. This makes the code much more comprehensible than if I used the function itself to print the results."
   ]
  },
  {
   "cell_type": "markdown",
   "id": "2dce5617-a86a-4327-aa99-f29548f3b92c",
   "metadata": {},
   "source": [
    "# 3 Your Turn!\n",
    "Now its your turn to make a module! Choose a topic from a class (could be physics, computer science, nuclear engineering, biology, astronomy, math, or an topic that interests you!) and build a module around it! Look at my module called `example.py` and base your structure around it. Your module NEEDS to include the following.\n",
    "\n",
    "Overall:\n",
    "1) Your module needs to use at least one NumPy function: https://numpy.org/devdocs/reference/routines.math.html\n",
    "2) Your module needs to contain a multi-dimensional array: https://numpy.org/devdocs/reference/arrays.ndarray.html \n",
    "3) Your module needs **at least** three functions that follow good coding practices.\n",
    "4) Inside your function, include comments. Don't forget to describe what the function is doing and what the inputs and outputs are.\n",
    "5) Your module needs either a `for` loop or `while` loop.\n",
    "6) Your module needs an `if`, `elif`, and `else` statement.\n",
    "7) Your module needs at least two assignment variables (`+=`, `*=`, etc).\n",
    "8) Creativity. *If it looks like you plugged this whole thing into ChatGPT, I will take off points. You can use ChatGPT to help you code, but you can't use it to just do your homework for you. That's no fun :(*\n",
    "\n",
    "In 2-3 sentences, describe the topic of your module and its capabilities. "
   ]
  },
  {
   "cell_type": "code",
   "execution_count": 267,
   "id": "0db7310e-b286-4ce7-aa0b-c211e243b7d6",
   "metadata": {},
   "outputs": [],
   "source": [
    "#I recently discovered linear algebra NumPy functions, so I am using one of them to make a module which calculates the determinant and trace of a square matrix.\n",
    "#My first function will pick out a n x n matrix of a specified dimension from any 2-dimensional array.\n",
    "#Then, I will add two other functions which each calculate the determinant and trace of those square matrices."
   ]
  },
  {
   "cell_type": "markdown",
   "id": "f9ec7fbd-1d6d-4c08-8528-e9cdaa7e3f6b",
   "metadata": {},
   "source": [
    "In 2-3 sentences, answer the following. What was the most challenging part of building this module? What did you learn in the process that you can apply to future coding assignments?"
   ]
  },
  {
   "cell_type": "code",
   "execution_count": 269,
   "id": "19898c20-2adb-4011-b95e-1da864f7801a",
   "metadata": {},
   "outputs": [],
   "source": [
    "#I'm still not super familiar with using indices like i,j to pick out elements.\n",
    "#I chose this topic because I thought it would help me practice using them. I also feel a little more familiar with using things like len(array) or array[i].\n",
    "#I think becoming familiar with these will make it easier for me to make more complex functions in the future without being pedantic."
   ]
  },
  {
   "cell_type": "markdown",
   "id": "85e943ab-1036-46bc-b9fb-da4ab1890816",
   "metadata": {},
   "source": [
    "Once your module is complete, import it here."
   ]
  },
  {
   "cell_type": "code",
   "execution_count": 284,
   "id": "fb9821b1-3cc0-4999-97eb-441571bbd5e1",
   "metadata": {},
   "outputs": [],
   "source": [
    "import matrices as mtx"
   ]
  },
  {
   "cell_type": "markdown",
   "id": "ac42ebd4-e51b-4be4-aaa7-6c7d550abd30",
   "metadata": {},
   "source": [
    "Call each of your functions in the cell below. Make sure to show the outputs! "
   ]
  },
  {
   "cell_type": "code",
   "execution_count": 286,
   "id": "b63d3d1f-64bd-4dc7-b20f-c562d09c7c92",
   "metadata": {},
   "outputs": [
    {
     "ename": "NameError",
     "evalue": "name 'square_matrix' is not defined",
     "output_type": "error",
     "traceback": [
      "\u001b[0;31m---------------------------------------------------------------------------\u001b[0m",
      "\u001b[0;31mNameError\u001b[0m                                 Traceback (most recent call last)",
      "Cell \u001b[0;32mIn[286], line 3\u001b[0m\n\u001b[1;32m      1\u001b[0m my_matrix\u001b[38;5;241m=\u001b[39m[[\u001b[38;5;241m1\u001b[39m,\u001b[38;5;241m2\u001b[39m,\u001b[38;5;241m3\u001b[39m,\u001b[38;5;241m4\u001b[39m],[\u001b[38;5;241m0\u001b[39m,\u001b[38;5;241m0\u001b[39m,\u001b[38;5;241m0\u001b[39m,\u001b[38;5;241m0\u001b[39m],[\u001b[38;5;241m5\u001b[39m,\u001b[38;5;241m6\u001b[39m,\u001b[38;5;241m7\u001b[39m,\u001b[38;5;241m8\u001b[39m],[\u001b[38;5;241m0\u001b[39m,\u001b[38;5;241m0\u001b[39m,\u001b[38;5;241m0\u001b[39m,\u001b[38;5;241m0\u001b[39m],[\u001b[38;5;241m9\u001b[39m,\u001b[38;5;241m10\u001b[39m,\u001b[38;5;241m11\u001b[39m,\u001b[38;5;241m12\u001b[39m]]\n\u001b[0;32m----> 3\u001b[0m test \u001b[38;5;241m=\u001b[39m mtxs\u001b[38;5;241m.\u001b[39mn_by_n(my_matrix,\u001b[38;5;241m4\u001b[39m)\n\u001b[1;32m      4\u001b[0m \u001b[38;5;28mprint\u001b[39m(test)\n\u001b[1;32m      6\u001b[0m test_det \u001b[38;5;241m=\u001b[39m mtxs\u001b[38;5;241m.\u001b[39mfind_determinant(my_matrix)\n",
      "File \u001b[0;32m~/ULAB/ulab_persephone/homework7/matrices.py:13\u001b[0m, in \u001b[0;36mn_by_n\u001b[0;34m(matrix, dimension)\u001b[0m\n\u001b[1;32m     11\u001b[0m for j in range(dimension):\n\u001b[1;32m     12\u001b[0m     rows.append(matrix[i][j]) #Add each elements to \"rows\"\n\u001b[0;32m---> 13\u001b[0m     square_matrix.append(rows) #Add \"rows\" to the array which will be our new matrix\n\u001b[1;32m     14\u001b[0m     \n\u001b[1;32m     15\u001b[0m     return np.array(new_matrix)\n",
      "\u001b[0;31mNameError\u001b[0m: name 'square_matrix' is not defined"
     ]
    }
   ],
   "source": [
    "my_matrix=[[1,2,3,4],[0,0,0,0],[5,6,7,8],[0,0,0,0],[9,10,11,12]]\n",
    "\n",
    "test = mtx.n_by_n(my_matrix,4)\n",
    "print(test)\n",
    "\n",
    "test_det = mtx.find_determinant(my_matrix)\n",
    "print(test_det)\n",
    "\n",
    "test_tr = mtx.find_trace(my_matrix)\n",
    "print(test_tr)"
   ]
  },
  {
   "cell_type": "markdown",
   "id": "8cf33b19-9bca-484e-8129-d8a4896a1bfa",
   "metadata": {},
   "source": [
    "# 4 Proper Submission\n",
    "To recieve full credit for this assignment make sure you do the following:\n",
    "\n",
    "1) Copy this homework assignment from the `ulab_2024` repository into **YOUR** local `homework7` branch. It will contain this notebook and an additional file called `example.py`. \n",
    "   \n",
    "2) Follow the tasks. Make sure to run all the cells so that **all** output is visible. You will get points taken off if your ouputs are not shown!\n",
    "\n",
    "3) Add/commit/push this notebook and **ANY** modules (so you should have `example.py` and your module) used in this homework assignment to your remote `homework7` branch. Make sure to have NOTHING else in your branch (i.e. no previous homeworks or lecture notes).\n",
    "\n",
    "4) Do the following:\n",
    "- Take a screenshot of moving **into or out** of your `homework7` brach, call it `hw7_branch`.\n",
    "- Take a screenshot of calling `ls` in your `homework7` branch, it should only contain items relevent to homework 7, call it `hw7_ls`.\n",
    "- Take a screenshot of adding this assignment to your local `homework7` branch, call it `hw7_add`.\n",
    "- Take a screenshot of committing this assignment to your local `homework7` branch, call it `hw7_commit`.\n",
    "- Take a screenshot of pushing this assignment to your remote `homework7` branch, call it `hw7_push`. \n",
    "\n",
    "6) Include these screenshots in your `homework7` branch. Upload your `homework7` branch to Gradescope!"
   ]
  }
 ],
 "metadata": {
  "kernelspec": {
   "display_name": "Python 3 (ipykernel)",
   "language": "python",
   "name": "python3"
  },
  "language_info": {
   "codemirror_mode": {
    "name": "ipython",
    "version": 3
   },
   "file_extension": ".py",
   "mimetype": "text/x-python",
   "name": "python",
   "nbconvert_exporter": "python",
   "pygments_lexer": "ipython3",
   "version": "3.12.4"
  }
 },
 "nbformat": 4,
 "nbformat_minor": 5
}
