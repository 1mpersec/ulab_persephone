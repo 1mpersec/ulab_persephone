{
 "cells": [
  {
   "cell_type": "markdown",
   "id": "21a1f0d2-d75c-4443-b816-1d1db3760454",
   "metadata": {},
   "source": [
    "# HW 6 - Iterables\n",
    "ULAB - Physics and Astronomy Division \\\n",
    "Due **Wednesday, October 30th, 2024 at 11:59pm** on Gradescope\n",
    "\n",
    "### REMINDER: Once you are done with this homework, make sure to include a screenshot of you pushing this notebook inside of your homework6 branch. Make sure to include this screenshot in your branch before submitting to Gradescope!\n",
    "\n",
    "### If there is no screenshot, then you will recieve a zero! \n",
    "\n",
    "General Tip (so you don't get silly points taken off):\n",
    "- Make sure **each function** follows good coding practices (i.e. a comment, detailed names, different steps on each line, etc)."
   ]
  },
  {
   "cell_type": "markdown",
   "id": "8dc7e46b-1e8e-486c-a2e9-d615c687028b",
   "metadata": {},
   "source": [
    "# 1 Lists\n",
    "\n",
    "## 1.1 List Slicing and Striding\n",
    "Write a **function** that takes in a list of integers and returns:\n",
    "\n",
    "- the first 5 elements\n",
    "- the last 5 elements\n",
    "- every 2nd element in the list\n",
    "- the list in reverse order.\n",
    "\n",
    "Use the test case below, along with two other ones (that you make-up):\n",
    "\n",
    "```\n",
    "list = [1, 2, 3, 4, 5, 6, 7, 8, 9, 10, 11, 12, 14, 15, 16, 17, 18, 19, 20]\n",
    "```"
   ]
  },
  {
   "cell_type": "code",
   "execution_count": 3,
   "id": "08dabd73-3dbc-4aab-843a-d4b81102835d",
   "metadata": {},
   "outputs": [
    {
     "name": "stdout",
     "output_type": "stream",
     "text": [
      "{'first_5': [1, 2, 3, 4, 5], 'last_5': [16, 17, 18, 19, 20], '2nd': [2, 4, 6, 8, 10, 12, 14, 16, 18, 20], 'reverse': [20, 19, 18, 17, 16, 15, 14, 13, 12, 11, 10, 9, 8, 7, 6, 5, 4, 3, 2, 1]}\n",
      "{'first_5': [21, 22, 23, 24, 25], 'last_5': [26, 27, 28, 29, 30], '2nd': [22, 24, 26, 28, 30], 'reverse': [30, 29, 28, 27, 26, 25, 24, 23, 22, 21]}\n",
      "{'first_5': [1, 3, 5, 7, 9], 'last_5': [21, 23, 25, 27, 29], '2nd': [3, 7, 11, 15, 19, 23, 27], 'reverse': [29, 27, 25, 23, 21, 19, 17, 15, 13, 11, 9, 7, 5, 3, 1]}\n"
     ]
    }
   ],
   "source": [
    "#define list\n",
    "def list_slice(numbers):\n",
    "    return {\n",
    "        'first_5': numbers[:5],\n",
    "        #count stops at 5\n",
    "        'last_5': numbers [-5:],\n",
    "        #count starts at -5, ends at start\n",
    "        '2nd':numbers[1::2],\n",
    "        #from 2nd element to end, take 2 steps\n",
    "        'reverse':numbers[::-1],\n",
    "        #from start to end backwards\n",
    "}\n",
    "\n",
    "#output list_slice result for test list, list1, and list2\n",
    "\n",
    "list_test=[1,2,3,4,5,6,7,8,9,10,11,12,13,14,15,16,17,18,19,20]\n",
    "print(list_slice(list_test))\n",
    "\n",
    "list1=[21,22,23,24,25,26,27,28,29,30]\n",
    "print(list_slice(list1))\n",
    "\n",
    "list2=[1,3,5,7,9,11,13,15,17,19,21,23,25,27,29]\n",
    "print(list_slice(list2))"
   ]
  },
  {
   "cell_type": "markdown",
   "id": "92c77920-20fc-455e-bf52-10b5a518ed2d",
   "metadata": {},
   "source": [
    "## 1.2 Iterating Over Lists with For Loops\n",
    "Write a **function** that takes in a list, with a **for** loop to return: \n",
    "- the square of each number in the list\n",
    "- the cube of each even number in the list\n",
    "\n",
    "Use the test case below, along with two other ones (that you make-up):\n",
    "\n",
    "```\n",
    "list = [1, 2, 3, 4, 5, 6]\n",
    "```"
   ]
  },
  {
   "cell_type": "code",
   "execution_count": 5,
   "id": "5054c807-a247-4159-9ce1-43020bcc3000",
   "metadata": {},
   "outputs": [
    {
     "name": "stdout",
     "output_type": "stream",
     "text": [
      "{'square': [1, 4, 9, 16, 25, 36], 'even_cube': [8, 64, 216]}\n",
      "{'square': [9, 36, 25, 1, 1, 9, 16, 25, 36], 'even_cube': [216, 64, 216]}\n",
      "{'square': [25, 25, 25, 25, 25, 25, 25, 25, 25], 'even_cube': []}\n"
     ]
    }
   ],
   "source": [
    "#define function and assign names\n",
    "def square_and_cube(numbers):\n",
    "    square=[] #empty list for squares\n",
    "    even_cube=[] #empty list for cubes\n",
    "\n",
    "    #square all nums in list\n",
    "    for num in numbers:\n",
    "        square.append(num**2) #add the numbers to list \"square\"\n",
    "        #if divisible by 2, cube\n",
    "        if num % 2 == 0:\n",
    "            even_cube.append(num**3) #add the numbers to list \"even_cube\"\n",
    "\n",
    "#return \"square\" and \"even_cube\" for a list of numbers\n",
    "    return {\n",
    "        'square':square, #return new \"square\" list\n",
    "        'even_cube':even_cube #return new \"even_cube\" list\n",
    "}\n",
    "\n",
    "#print results of function for different lists\n",
    "list_test=[1,2,3,4,5,6]\n",
    "print(square_and_cube(list_test))\n",
    "\n",
    "list1=[3,6,5,1,1,3,4,5,6]\n",
    "print(square_and_cube(list1))\n",
    "\n",
    "list2=[5,5,5,5,5,5,5,5,5]\n",
    "print(square_and_cube(list2))"
   ]
  },
  {
   "cell_type": "markdown",
   "id": "e2e075da-c004-400d-b796-5435e096816d",
   "metadata": {},
   "source": [
    "# 2 Dictionaries\n",
    "We have not fully covered **dictionaries** in class, but a **dictionary** is a collection of key-value pairs. Each key is unique and is associated with a specific value. Like a real dictionary! \n",
    "\n",
    "You can create a dictionary by placing key-value pairs inside of curly brackets `{}` with a `:` separating the key from the value. \n",
    "\n",
    "Run the cell below for an example:"
   ]
  },
  {
   "cell_type": "code",
   "execution_count": 7,
   "id": "dbdb0f41-4f57-4524-ab51-ff1fc502bdfc",
   "metadata": {},
   "outputs": [
    {
     "name": "stdout",
     "output_type": "stream",
     "text": [
      "{'Mercury': 0.39, 'Venus': 0.72, 'Earth': 1.0, 'Mars': 1.52, 'Jupiter': 5.2, 'Saturn': 9.58, 'Uranus': 19.22, 'Neptune': 30.05}\n"
     ]
    }
   ],
   "source": [
    "# A dictionary that contains some data about the planets in our solar system\n",
    "planet_data = {\n",
    "    \"Mercury\": 0.39, \n",
    "    \"Venus\": 0.72,\n",
    "    \"Earth\": 1.00, # distance from the Sun in AU\n",
    "    \"Mars\": 1.52,\n",
    "    \"Jupiter\": 5.20,\n",
    "    \"Saturn\": 9.58,\n",
    "    \"Uranus\": 19.22,\n",
    "    \"Neptune\": 30.05\n",
    "}   \n",
    "\n",
    "print(planet_data) # print the dictonary"
   ]
  },
  {
   "cell_type": "markdown",
   "id": "886c93f4-0027-4969-ba67-cc12eca04c9c",
   "metadata": {},
   "source": [
    "## 2.1 Looping through a dictionary\n",
    "Write a function that takes in the `planet_data` dictionary and uses a `for` loop to print the names of each of the planets and its distance from the sun."
   ]
  },
  {
   "cell_type": "code",
   "execution_count": 9,
   "id": "a3ab065a-42f5-4aa0-8e0f-38e87c583464",
   "metadata": {},
   "outputs": [
    {
     "name": "stdout",
     "output_type": "stream",
     "text": [
      "Mercury is 0.39 au away from the Sun.\n",
      "Venus is 0.72 au away from the Sun.\n",
      "Earth is 1.0 au away from the Sun.\n",
      "Mars is 1.52 au away from the Sun.\n",
      "Jupiter is 5.2 au away from the Sun.\n",
      "Saturn is 9.58 au away from the Sun.\n",
      "Uranus is 19.22 au away from the Sun.\n",
      "Neptune is 30.05 au away from the Sun.\n"
     ]
    }
   ],
   "source": [
    "#define function\n",
    "def print_distance(planet_data): #make function of dictionary\n",
    "    for planet, distance in planet_data.items(): #attribute names to items in dictionary\n",
    "        print(f\"{planet} is {distance} au away from the Sun.\") #print sentence\n",
    "\n",
    "print_distance(planet_data)"
   ]
  },
  {
   "cell_type": "markdown",
   "id": "2b38b6fb-ce68-4f20-a8a1-ba241e8db53e",
   "metadata": {},
   "source": [
    "## 2.2 Dictionaries and Conditionals\n",
    "Write a function that uses a while loop to print all the planets that are a minimum distance of 5 AU from the Sun. "
   ]
  },
  {
   "cell_type": "code",
   "execution_count": 11,
   "id": "6e07cf13-efba-4a75-ad75-0428dc31108d",
   "metadata": {
    "scrolled": true
   },
   "outputs": [
    {
     "name": "stdout",
     "output_type": "stream",
     "text": [
      "Jupiter\n",
      "Saturn\n",
      "Uranus\n",
      "Neptune\n"
     ]
    }
   ],
   "source": [
    "#without \"while index < length list\", prints infinitely many repetitions of every planet\n",
    "\n",
    "#define function of planet_data\n",
    "def distant_planets(planet_data):\n",
    "    planet_names = list(planet_data.keys()) #define separate (limitable) list\n",
    "    index = 0 #set initial value to 0\n",
    "    \n",
    "    while index < len(planet_names): #only run while the index is shorter than # elements in dict\n",
    "        planet = planet_names[index] #define \"planet\" thru its key\n",
    "        distance = planet_data[planet] #define \"distance\" as data associated with planet\n",
    "        if distance >= 5: #condition min distance 5\n",
    "            print(planet)\n",
    "        index += 1 #add 1 to index at a time\n",
    "        \n",
    "distant_planets(planet_data)"
   ]
  },
  {
   "cell_type": "markdown",
   "id": "5e1ba0c0-5dd9-44e8-895c-73a36d614949",
   "metadata": {},
   "source": [
    "# 3 Observing Stars in a Cluster\n",
    "Your goal is to calculate the total brightness of a group of stars in a star cluster and estimate how long it would take for a telescope to observer each star, depending on their brightness (magnitude). Here is some background information:\n",
    "- The brightness of a star, from a telescope, is measured by its **apparent magnitude**, a LOWER magnitude means a brighter star. A HIGHER magnitude means a fainter star. So a 4th magnitude star is much brighter than a 17th magnitude star.\n",
    "- To convert magnitude into brightness, use the following formula\n",
    "$$\n",
    "\\text{Brightness} = 10^{-\\frac{\\text{magnitude}}{2.5}}\n",
    "$$\n",
    "\n",
    "Use this list of magnitudes and time limit:\n",
    "\n",
    "```\n",
    "magnitudes = [12.5, 13.2, 14.8, 19.1, 21.0, 18.5, 15.3, 10.5, 23.0]\n",
    "time_limit = 500\n",
    "```\n",
    "\n",
    "Expected outcome (your solutions with be the answers to the ???):\n",
    "- Total brightness of the stars: ???\n",
    "- Total observation time for all observable stars: ???\n",
    "- Number of stars that can be observed within 500 seconds: ???"
   ]
  },
  {
   "cell_type": "markdown",
   "id": "336785a7-71bf-434d-982c-dd72dd29cf71",
   "metadata": {},
   "source": [
    "## 3.1 Calculate Brightness\n",
    "1) Write a **function** which inputs a list of star magnitudes (brightnesses).\n",
    "2) Inside your function, use a `for` loop to calculate (with the given formula) the brightness of each star.\n",
    "3) Inside your function, use a `for` loop to sum up the total brightness of all the stars.\n",
    "5) Have your function return the **total brightness** of all the stars and a **list of the brightnesses** of the stars.\n",
    "6) Test out your function with the **given** magnitude values."
   ]
  },
  {
   "cell_type": "code",
   "execution_count": 14,
   "id": "ccc331f4-c029-4a82-810b-4a78d0fa1a2a",
   "metadata": {},
   "outputs": [
    {
     "name": "stdout",
     "output_type": "stream",
     "text": [
      "Total brightness: 167.91999999999996\n",
      "[5.0, 4.720000000000001, 4.08, 2.3599999999999994, 1.5999999999999996, 2.5999999999999996, 3.88, 5.8, 0.8000000000000007]\n"
     ]
    }
   ],
   "source": [
    "magnitudes = [12.5, 13.2, 14.8, 19.1, 21.0, 18.5, 15.3, 10.5, 23.0]\n",
    "\n",
    "def conv_brightness(magnitudes): #make function of list\n",
    "    brightness = [] #empty list of brightnesses\n",
    "    total=0 #total brightness\n",
    "    \n",
    "    for mag in magnitudes:\n",
    "        brightness.append(10-(mag/2.5)) #calculate brightness using formula, add to new list\n",
    "        for bright in brightness:\n",
    "            total += bright #add each element to total\n",
    "\n",
    "    return total, brightness #results in a total number & brightness list\n",
    "\n",
    "total, all_brightness = conv_brightness(magnitudes) #rewriting names for convenience\n",
    "\n",
    "print(\"Total brightness:\", total)\n",
    "print(all_brightness)"
   ]
  },
  {
   "cell_type": "markdown",
   "id": "9aff0e1c-9f88-4ebb-a05b-d39363d9e88e",
   "metadata": {},
   "source": [
    "## 3.2 Observation Time\n",
    "1) Write a **function** which inputs a list of star magnitudes (brightnesses).\n",
    "2) Inside your function, use a `for` loop to calculate the time to observe each star.\n",
    "- You can just assume each star's observation time is inversely proportional to its brightness with the following formula:\n",
    "\n",
    "$$\n",
    "\\text{Observation Time (in seconds)} \\propto \\frac{1}{\\text{Brightness}} \n",
    "$$\n",
    "\n",
    "3) Inside you function, write a `condition` that ignores stars that have a magnitude greater than 20 (very very faint stars).\n",
    "4) Have your function return the **total observation time** (ignoring >20 magnitudes) and a **list of the times** it would take to observe each individual star.\n",
    "5) Test out your function with the **given** magnitude values."
   ]
  },
  {
   "cell_type": "code",
   "execution_count": 16,
   "id": "044d17cf-82a8-44b6-8958-447632f713f6",
   "metadata": {},
   "outputs": [
    {
     "name": "stdout",
     "output_type": "stream",
     "text": [
      "Total observation time: 947.7261980181945 s\n"
     ]
    }
   ],
   "source": [
    "magnitudes = [12.5, 13.2, 14.8, 19.1, 21.0, 18.5, 15.3, 10.5, 23.0]\n",
    "\n",
    "def obs_time(magnitudes): #define function\n",
    "    totaltime=0\n",
    "\n",
    "    for mag in magnitudes:\n",
    "        if mag < 20: #condition magnitude smaller than 20\n",
    "            totaltime += 500/(10-(mag/2.5)) #calculate time (assuming time is just limit/brightness?), then add to total\n",
    "\n",
    "    return totaltime\n",
    "\n",
    "total_time = obs_time(magnitudes) #define new name so i don't have to type the whole function\n",
    "\n",
    "print(f\"Total observation time:\", total_time, f\"s\")"
   ]
  },
  {
   "cell_type": "markdown",
   "id": "102d3c15-0b4f-48a7-8fdc-f896c1841aca",
   "metadata": {},
   "source": [
    "## 3.3 Time Until the Limit\n",
    "1) Write a **function** which inputs a list of star magnitudes (brightnesses) and time limit.\n",
    "   - Make your time limit a default argument.\n",
    "2) Inside your function, make a counter called `total time` and set it to 0.\n",
    "3) Inside your function, use a `while` loop to set the time limit of your observation.\n",
    "4) Inside your function, use assigment operators to update the `total time` observed. \n",
    "5) Inside your function, use a `condition` to skip stars with magnitude 20 or greater. \n",
    "6) Have your function return the **number of stars that can be observed** within the time limit and **how long the observation will take** (this should be less than the time limit).\n",
    "7) Test out your function with the **given** magnitude values and time limit."
   ]
  },
  {
   "cell_type": "code",
   "execution_count": 18,
   "id": "5a541a62-0903-41bd-91c9-ee21172069a3",
   "metadata": {},
   "outputs": [
    {
     "name": "stdout",
     "output_type": "stream",
     "text": [
      "3 stars can be observed in 328.4812229976736 seconds.\n"
     ]
    }
   ],
   "source": [
    "magnitudes = [12.5, 13.2, 14.8, 19.1, 21.0, 18.5, 15.3, 10.5, 23.0]\n",
    "\n",
    "#define function\n",
    "def obs_stars(magnitudes, time_limit=500):\n",
    "    total_time=0\n",
    "    no_stars=0\n",
    "    i=0 #introduce counters for total time, number of stars, index\n",
    "\n",
    "    while total_time+500/(10-(magnitudes[i]/2.5)) < time_limit and i<len(magnitudes): #if result for i+1 exceeds time limit, end loop\n",
    "        if magnitudes[i] < 20: #condition magnitude smaller than 20\n",
    "            total_time += 500/(10-(magnitudes[i]/2.5)) #calculate time (assuming time is just 1/brightness?), then add to total\n",
    "            no_stars += 1 #add to number of stars\n",
    "        i+=1 #add to index until end of list\n",
    "\n",
    "    return total_time, no_stars\n",
    "\n",
    "t, number = obs_stars(magnitudes) #use default argument for time_limit\n",
    "\n",
    "print(number, f\"stars can be observed in\", t, f\"seconds.\")"
   ]
  },
  {
   "cell_type": "markdown",
   "id": "d2ab246f-9570-483e-b35b-cf1056f20936",
   "metadata": {},
   "source": [
    "## 3.4 Call Upon Your Functions\n",
    "You do not need to rewrite your functions once you have written them! That's what is so awesome about **functions**! \n",
    "\n",
    "1) With a new test case (different magnitudes and time limit) call your three functions you wrote above.\n",
    "2) Print out their return statements, example:\n",
    "\n",
    "```\n",
    ">>> my_return = my_function(my_argument):\n",
    ">>> print(my_return)\n",
    "```"
   ]
  },
  {
   "cell_type": "code",
   "execution_count": 20,
   "id": "4c4c9389-04f5-49bc-823c-a12d6c003b60",
   "metadata": {},
   "outputs": [
    {
     "name": "stdout",
     "output_type": "stream",
     "text": [
      "1 stars in the new list can be observed in 96.15384615384615 seconds.\n"
     ]
    }
   ],
   "source": [
    "magnitudes2=[12, 14, 14, 16, 38, 8, 15, 15, 17]\n",
    "\n",
    "t, number = obs_stars(magnitudes2, 200) #use magnitudes 2 and 200 for time limit\n",
    "\n",
    "print(number, f\"stars in the new list can be observed in\", t, f\"seconds.\")"
   ]
  },
  {
   "cell_type": "markdown",
   "id": "daba92d4-a646-4efc-824d-85b52ea3c573",
   "metadata": {},
   "source": [
    "# 4 Debug the Quadratic Function!\n",
    "The code below does not follow proper coding hygiene (good coding sklls) and is riddled with bugs! Answer the following question and follow the steps below:\n",
    "1) When you run the cell, what is the first error you get? What does this mean? What are three other things wrong with this function?\n",
    "2) Fix the bugs! No importing packages.\n",
    "3) Rewrite the code, such that it follows \"good coding skills\".\n",
    "\n",
    "Try out the test case of `a = 2`, `b = -5` and `c = 3`. You should get `(1.5, 1.0)`. Try out your own test case as well."
   ]
  },
  {
   "cell_type": "code",
   "execution_count": 29,
   "id": "cd66dd28-f8d3-447c-8d20-ff3e31bfaa07",
   "metadata": {},
   "outputs": [
    {
     "name": "stdout",
     "output_type": "stream",
     "text": [
      "1.0 1.5\n"
     ]
    }
   ],
   "source": [
    "a=2\n",
    "b=-5\n",
    "c=3 #pulling out definitions for clarity\n",
    "\n",
    "def q_f(a,b,c): #variables should be clean\n",
    "    bottom = 2*a #define 'bottom=2a' clearly\n",
    "    if bottom == 0: \n",
    "        pos_answer=\"Cannot divide by zero\"\n",
    "        neg_answer=\"Cannot divide by zero\" #If dividing by zero, return invalid\n",
    "    else:\n",
    "        pos_answer=(-b + (b**2-4*a*c)**(1/2))/bottom\n",
    "        neg_answer=(-b - (b**2-4*a*c)**(1/2))/bottom #If not dividing by zero, return values\n",
    "    \n",
    "    return neg_answer, pos_answer #min and max do not apply to floats\n",
    "\n",
    "root1, root2 = q_f(a,b,c) #cleanly define names\n",
    "\n",
    "print(root1, root2)\n",
    "\n",
    "#1. The first error you get is \"invalid decimal literal\" for bottom=2a. This means a number was incorrectly formatted early on (probably because of \"two*a\").\n",
    "    #Others errors are: c=\"three\" being a string, neg_answer = -(pos_answer) which is just untrue, and i being undefined."
   ]
  },
  {
   "cell_type": "markdown",
   "id": "8cf33b19-9bca-484e-8129-d8a4896a1bfa",
   "metadata": {},
   "source": [
    "# 5 Proper Submission\n",
    "To recieve full credit for this assignment make sure you do the following:\n",
    "1) Copy this jupter notebook from the `ulab_2024` repository into **YOUR** local `homework` branch.\n",
    "   \n",
    "3) Follow the tasks. Make sure to run all the cells so that all output is visible.\n",
    "   \n",
    "5) Push this notebook to your remote `homework6` branch. Refer to the lecture slides for more information.\n",
    "      \n",
    "6) **WARNING!! IF YOU DO NOT FOLLOW THIS STEP YOU WILL RECIEVE A ZERO!**\n",
    "   1) Take a screenshot of your command line when you `push` this notebook from your local `homework6` branch to your remote `homework6` branch. Make sure to prove that you are inside a branch besides `main` or `master` by calling `git branch` and make sure to prove that your `homework6` branch only contains the homework4 folder of Jupyter Notebook you copied over from `ulab_2024` (which can be done by calling `ls`). You could also call `git status` before/after as a way to prove you pushed the proper files to the correct branches.\n",
    "   2)  Include that screenshot in your remote branch when you upload your GitHub branch to Gradescope!"
   ]
  },
  {
   "cell_type": "code",
   "execution_count": null,
   "id": "b0926042-d1cf-4a2e-8fc8-d93395a6a7cf",
   "metadata": {},
   "outputs": [],
   "source": []
  }
 ],
 "metadata": {
  "kernelspec": {
   "display_name": "Python 3 (ipykernel)",
   "language": "python",
   "name": "python3"
  },
  "language_info": {
   "codemirror_mode": {
    "name": "ipython",
    "version": 3
   },
   "file_extension": ".py",
   "mimetype": "text/x-python",
   "name": "python",
   "nbconvert_exporter": "python",
   "pygments_lexer": "ipython3",
   "version": "3.12.4"
  }
 },
 "nbformat": 4,
 "nbformat_minor": 5
}
